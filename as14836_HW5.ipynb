{
  "nbformat": 4,
  "nbformat_minor": 0,
  "metadata": {
    "colab": {
      "name": "as14836_HW5.ipynb",
      "provenance": [],
      "toc_visible": true
    },
    "kernelspec": {
      "name": "python3",
      "display_name": "Python 3"
    },
    "language_info": {
      "name": "python"
    }
  },
  "cells": [
    {
      "cell_type": "markdown",
      "source": [
        "# Introduction"
      ],
      "metadata": {
        "id": "klh1cG-gksj-"
      }
    },
    {
      "cell_type": "markdown",
      "source": [
        "Artem Shlepchenko\n",
        "\n",
        "as14836\n",
        "\n",
        "HW_5"
      ],
      "metadata": {
        "id": "7Ej4hQEZ8j2F"
      }
    },
    {
      "cell_type": "markdown",
      "source": [
        "Differential fault analysis (DFA) is a cryptanalysis technique that works with most modern cyphers.\n",
        "\n",
        "Given a plaintext, the DFA attack derived information about the secret key by examining the differences between a related cipher text resulting from a correct encryption and a cipher text of the same plaintext resulting from a faulty encryption."
      ],
      "metadata": {
        "id": "S9jA8ZCSkyl6"
      }
    },
    {
      "cell_type": "markdown",
      "source": [
        "# DES implementation"
      ],
      "metadata": {
        "id": "fK07PiIxp14W"
      }
    },
    {
      "cell_type": "markdown",
      "source": [
        "DES is a block cipher and encrypts data in blocks of size of 64 bits each, which means 64 bits of plain text goes as the input to DES, which produces 64 bits of ciphertext."
      ],
      "metadata": {
        "id": "ZlS_s8MAp5xl"
      }
    },
    {
      "cell_type": "markdown",
      "source": [
        "We will start from the DES implementation. Supplementary material was taken from https://en.wikipedia.org/wiki/DES_supplementary_material"
      ],
      "metadata": {
        "id": "rNkpA3K2qgvr"
      }
    },
    {
      "cell_type": "markdown",
      "source": [
        "The cutInHalves() function cuts input (plaintext) in two halves that thenwill be treated separately."
      ],
      "metadata": {
        "id": "91oBY5AZwU3r"
      }
    },
    {
      "cell_type": "code",
      "execution_count": 23,
      "metadata": {
        "id": "YVreIX0CjBCx"
      },
      "outputs": [],
      "source": [
        "def cutInHalves(input):\n",
        "    return (input >> 32) & 0xFFFFFFFF, input & 0xFFFFFFFF"
      ]
    },
    {
      "cell_type": "markdown",
      "source": [
        "The permutation() function shuffles the bits of a 32-bit half-block."
      ],
      "metadata": {
        "id": "It5NorrksEwk"
      }
    },
    {
      "cell_type": "code",
      "source": [
        "# Permuts bits of to permute, according to the table\n",
        "def permutation(toPermute, table , inputSize, verbose=False):\n",
        "    res = 0\n",
        "    for i in range(len(table)):\n",
        "        mask = 1 << (inputSize - table[i])  # The only bit that should be one is the one that will get permuted at this round\n",
        "        if verbose is True:\n",
        "            print(bin(mask))\n",
        "        bitPermuted = bool(toPermute & mask) << (len(table) - i - 1) # then we shift that bit ((bool)toPermute & mask)\n",
        "                                                                     # at it's post permutation position\n",
        "        res |= bitPermuted # remember that 0 | 1 = 1, 001 | 100 = 101, etc\n",
        "    return res\n",
        "\n",
        "print(\"Number:\", bin(0b1010), hex(0b1010), \"table:\", [3, 4, 2, 1, 4, 3])\n",
        "print(\"permutation:\", bin(permutation(0b1010, table=[3, 4, 2, 1, 4, 3], inputSize=4, verbose=True)))"
      ],
      "metadata": {
        "colab": {
          "base_uri": "https://localhost:8080/"
        },
        "id": "_miTEv7AjJKE",
        "outputId": "d3facbe0-c762-4043-cb81-707b5e386ce7"
      },
      "execution_count": 24,
      "outputs": [
        {
          "output_type": "stream",
          "name": "stdout",
          "text": [
            "Number: 0b1010 0xa table: [3, 4, 2, 1, 4, 3]\n",
            "0b10\n",
            "0b1\n",
            "0b100\n",
            "0b1000\n",
            "0b1\n",
            "0b10\n",
            "permutation: 0b100101\n"
          ]
        }
      ]
    },
    {
      "cell_type": "markdown",
      "source": [
        "The expansion() function is interpreted as for the initial and final permutations. "
      ],
      "metadata": {
        "id": "HY37dv_br-OG"
      }
    },
    {
      "cell_type": "code",
      "source": [
        "E = [\n",
        "    32, 1,  2,  3,  4,  5,\n",
        "    4,  5,  6,  7,  8,  9,\n",
        "    8,  9,  10, 11, 12, 13,\n",
        "    12, 13, 14, 15, 16, 17,\n",
        "    16, 17, 18, 19, 20, 21,\n",
        "    20, 21, 22, 23, 24, 25,\n",
        "    24, 25, 26, 27, 28, 29,\n",
        "    28, 29, 30, 31, 32, 1\n",
        "]\n",
        "\n",
        "def expansion(inputMessage):\n",
        "    return permutation(inputMessage, E, 32)"
      ],
      "metadata": {
        "id": "EEz3Z7-djMAQ"
      },
      "execution_count": 25,
      "outputs": []
    },
    {
      "cell_type": "markdown",
      "source": [
        "Before the round sub-key is selected, each half of the key schedule state is rotated left by a number of places. This table specifies the number of places rotated."
      ],
      "metadata": {
        "id": "YKkZmbFEvBFS"
      }
    },
    {
      "cell_type": "code",
      "source": [
        "# left shift a 32 bits integer circularly\n",
        "def rotate(X):\n",
        "    poidsFort = 1 if X > pow(2, 27) else 0\n",
        "    X = X << 1\n",
        "    X = (X & 0x0FFFFFFF) | poidsFort\n",
        "    return X\n",
        "\n",
        "# left shift the two halves of a 32 bits integer circularly\n",
        "def leftShift(T, verbose=False):\n",
        "    C = (T & 0xFFFFFFF0000000) >> 28\n",
        "    D = T & 0x0000000FFFFFFF\n",
        "    if verbose is True:\n",
        "        print(\"before rotation:\", hex(C), hex(D))\n",
        "    C = rotate(C)\n",
        "    D = rotate(D)\n",
        "    if verbose is True:\n",
        "        print(\"after rotation:\", hex(C), hex(D))\n",
        "    \n",
        "    C = C << 28\n",
        "    return (C | D)\n",
        "\n",
        "a = 0x0000000100000002\n",
        "print(hex(leftShift(a, True)))\n",
        "print(hex(rotate(0x10000000)))"
      ],
      "metadata": {
        "colab": {
          "base_uri": "https://localhost:8080/"
        },
        "id": "0zwYYHM4jQ43",
        "outputId": "0a66ff4c-b07b-4594-f1e3-984340372eb8"
      },
      "execution_count": 26,
      "outputs": [
        {
          "output_type": "stream",
          "name": "stdout",
          "text": [
            "before rotation: 0x10 0x2\n",
            "after rotation: 0x20 0x4\n",
            "0x200000004\n",
            "0x1\n"
          ]
        }
      ]
    },
    {
      "cell_type": "markdown",
      "source": [
        "The PC1 table show which bits from the input key form the left and right sections of the key schedule state. Note that only 56 bits of the 64 bits of the input are selected.\n",
        "\n",
        "The PC2 table is used to select the 48-bit subkey for each round from the 56-bit key-schedule state."
      ],
      "metadata": {
        "id": "7WpMa24isfbG"
      }
    },
    {
      "cell_type": "code",
      "source": [
        "PC1 = [\n",
        "    57, 49, 41, 33, 25, 17, 9,\n",
        "    1,  58, 50, 42, 34, 26, 18,\n",
        "    10, 2,  59, 51, 43, 35, 27,\n",
        "    19, 11, 3,  60, 52, 44, 36,\n",
        "    63, 55, 47, 39, 31, 23, 15,\n",
        "    7,  62, 54, 46, 38, 30, 22,\n",
        "    14, 6,  61, 53, 45, 37, 29,\n",
        "    21, 13, 5,  28, 20, 12, 4\n",
        "]\n",
        "\n",
        "PC2 = [\n",
        "    14, 17, 11, 24, 1,  5,\n",
        "    3,  28, 15, 6,  21, 10,\n",
        "    23, 19, 12, 4,  26, 8,\n",
        "    16, 7,  27, 20, 13, 2,\n",
        "    41, 52, 31, 37, 47, 55,\n",
        "    30, 40, 51, 45, 33, 48,\n",
        "    44, 49, 39, 56, 34, 53,\n",
        "    46, 42, 50, 36, 29, 32\n",
        "]"
      ],
      "metadata": {
        "id": "0rOvVI6ejSBd"
      },
      "execution_count": 27,
      "outputs": []
    },
    {
      "cell_type": "markdown",
      "source": [
        "The keySchedule() uses two permutations, PC1 and PC2\n",
        "\n",
        "PC1 is used once before the loop, in the initialization step. It shrinks the key down from 64 to 56 bit, effectively removing the parity bits. We'll call T that 56 bits version of K\n",
        "\n",
        "PC2 takes a T as an input and outputs the 48 bits of a Ki. At each step, T is shifted either once or twice (which step gets 2 shifts is hardcoded in the standard too). These shifts ensure every Ki will be different from one another.\n",
        "\n",
        "Before the round sub-key is selected, each half of the key schedule state is rotated left by a number of places. The array 'nbPermutations' specifies the number of places rotated."
      ],
      "metadata": {
        "id": "M3JiT4XFuepU"
      }
    },
    {
      "cell_type": "code",
      "source": [
        "def keySchedule(K):\n",
        "    subKeys = []\n",
        "    \n",
        "    nbPermutations = [1, 1, 2, 2, 2, 2, 2, 2, 1, 2, 2, 2, 2, 2, 2, 1]\n",
        "    T = permutation(K, PC1, 64)\n",
        "\n",
        "    for perm in nbPermutations:\n",
        "        T = leftShift(T) if perm == 1 else leftShift(leftShift(T))\n",
        "        subKeys.append(permutation(T, PC2, 56))\n",
        "    return subKeys"
      ],
      "metadata": {
        "id": "VhHOX07djUc7"
      },
      "execution_count": 28,
      "outputs": []
    },
    {
      "cell_type": "markdown",
      "source": [
        "Each S-box replaces a 6-bit input with a 4-bit output. Given a 6-bit input, the 4-bit output is found by selecting the row using the outer two bits, and the column using the inner four bits."
      ],
      "metadata": {
        "id": "kQJEN2OPtEDZ"
      }
    },
    {
      "cell_type": "code",
      "source": [
        "# There are 8 SBoxes\n",
        "\n",
        "Sbox = [\n",
        "    [\n",
        "        [14, 4,  13, 1,  2,  15, 11, 8,  3,  10, 6,  12, 5,  9,  0,  7],\n",
        "        [0,  15, 7,  4,  14, 2,  13, 1,  10, 6,  12, 11, 9,  5,  3,  8],\n",
        "        [4,  1,  14, 8,  13, 6,  2,  11, 15, 12, 9,  7,  3,  10, 5,  0],\n",
        "        [15, 12, 8,  2,  4,  9,  1,  7,  5,  11, 3,  14, 10, 0,  6,  13]\n",
        "    ],\n",
        "    [\n",
        "        [15, 1,  8,  14, 6,  11, 3,  4,  9,  7,  2,  13, 12, 0,  5,  10],\n",
        "        [3,  13, 4,  7,  15, 2,  8,  14, 12, 0,  1,  10, 6,  9,  11, 5],\n",
        "        [0,  14, 7,  11, 10, 4,  13, 1,  5,  8,  12, 6,  9,  3,  2,  15],\n",
        "        [13, 8,  10, 1,  3,  15, 4,  2,  11, 6,  7,  12, 0,  5,  14, 9]\n",
        "    ],\n",
        "    [\n",
        "        [10, 0,  9,  14, 6,  3,  15, 5,  1,  13, 12, 7,  11, 4,  2,  8],\n",
        "        [13, 7,  0,  9,  3,  4,  6,  10, 2,  8,  5,  14, 12, 11, 15, 1],\n",
        "        [13, 6,  4,  9,  8,  15, 3,  0,  11, 1,  2,  12, 5,  10, 14, 7],\n",
        "        [1,  10, 13, 0,  6,  9,  8,  7,  4,  15, 14, 3,  11, 5,  2,  12]\n",
        "    ],\n",
        "    [\n",
        "        [7,  13, 14, 3,  0,  6,  9,  10, 1,  2,  8,  5,  11, 12, 4,  15],\n",
        "        [13, 8,  11, 5,  6,  15, 0,  3,  4,  7,  2,  12, 1,  10, 14, 9],\n",
        "        [10, 6,  9,  0,  12, 11, 7,  13, 15, 1,  3,  14, 5,  2,  8,  4],\n",
        "        [3,  15, 0,  6,  10, 1,  13, 8,  9,  4,  5,  11, 12, 7,  2,  14]\n",
        "    ],\n",
        "    [\n",
        "        [2,  12, 4,  1,  7,  10, 11, 6,  8,  5,  3,  15, 13, 0,  14, 9],\n",
        "        [14, 11, 2,  12, 4,  7,  13, 1,  5,  0,  15, 10, 3,  9,  8,  6],\n",
        "        [4,  2,  1,  11, 10, 13, 7,  8,  15, 9,  12, 5,  6,  3,  0,  14],\n",
        "        [11, 8,  12, 7,  1,  14, 2,  13, 6,  15, 0,  9,  10, 4,  5,  3]\n",
        "    ],\n",
        "    [\n",
        "        [12, 1,  10, 15, 9,  2,  6,  8,  0,  13, 3,  4,  14, 7,  5,  11],\n",
        "        [10, 15, 4,  2,  7,  12, 9,  5,  6,  1,  13, 14, 0,  11, 3,  8],\n",
        "        [9,  14, 15, 5,  2,  8,  12, 3,  7,  0,  4,  10, 1,  13, 11, 6],\n",
        "        [4,  3,  2,  12, 9,  5,  15, 10, 11, 14, 1,  7,  6,  0,  8,  13]\n",
        "    ],\n",
        "    [\n",
        "        [4,  11, 2,  14, 15, 0,  8,  13, 3,  12, 9,  7,  5,  10, 6,  1],\n",
        "        [13, 0,  11, 7,  4,  9,  1,  10, 14, 3,  5,  12, 2,  15, 8,  6],\n",
        "        [1,  4,  11, 13, 12, 3,  7,  14, 10, 15, 6,  8,  0,  5,  9,  2],\n",
        "        [6,  11, 13, 8,  1,  4,  10, 7,  9,  5,  0,  15, 14, 2,  3,  12]\n",
        "    ],\n",
        "    [\n",
        "        [13, 2,  8,  4,  6,  15, 11, 1,  10, 9,  3,  14, 5,  0,  12, 7],\n",
        "        [1,  15, 13, 8,  10, 3,  7,  4,  12, 5,  6,  11, 0,  14, 9,  2],\n",
        "        [7,  11, 4,  1,  9,  12, 14, 2,  0,  6,  10, 13, 15, 3,  5,  8],\n",
        "        [2,  1,  14, 7,  4,  10, 8,  13, 15, 12, 9,  0,  3,  5,  6,  11]\n",
        "    ]\n",
        "]"
      ],
      "metadata": {
        "id": "oW86WEJ-jWgu"
      },
      "execution_count": 29,
      "outputs": []
    },
    {
      "cell_type": "markdown",
      "source": [
        "F() is a function parameterized with a 48-bit key and operating on a 32-bit block"
      ],
      "metadata": {
        "id": "WTuobSW3rawX"
      }
    },
    {
      "cell_type": "code",
      "source": [
        "P = [\n",
        "    16, 7,  20, 21,\n",
        "    29, 12, 28, 17,\n",
        "    1,  15, 23, 26,\n",
        "    5,  18, 31, 10,\n",
        "    2,  8,  24, 14,\n",
        "    32, 27, 3,  9,\n",
        "    19, 13, 30, 6,\n",
        "    22, 11, 4,  25\n",
        "]\n",
        "\n",
        "def F(R, subkey):\n",
        "    # after expansion, R is 48 bits long\n",
        "    T = expansion(R) ^ subkey\n",
        "    \n",
        "    res = 0\n",
        "\n",
        "    for i in range(1, 9):\n",
        "        # 48 bits / 8 = 8 block of 6 bits to be handle separately \n",
        "        block = T >> (48 - i*6)\n",
        "\n",
        "        msbDoubled = (block & 0b100000) >> 4\n",
        "        lsb = block & 1\n",
        "\n",
        "        row = msbDoubled + lsb\n",
        "        column = (block & 0b011110) >> 1\n",
        "\n",
        "        # Then every block goes throught one SBox => 4 bits outputed\n",
        "        # for each Sbox, append it's output to the result\n",
        "        res = res | (Sbox[i - 1][row][column] << (32 - i*4))\n",
        "    return permutation(res, P, 32)"
      ],
      "metadata": {
        "id": "yZOigVNxjY9m"
      },
      "execution_count": 30,
      "outputs": []
    },
    {
      "cell_type": "markdown",
      "source": [
        "The IP table specifies the input permutation on a 64-bit block. The meaning is as follows: the first bit of the output is taken from the 58th bit of the input; the second bit from the 50th bit, and so on, with the last bit of the output taken from the 7th bit of the input.\n",
        "\n",
        "The IPinv (the final permutation) is the inverse of the initial permutation."
      ],
      "metadata": {
        "id": "TDU9IinZtcb1"
      }
    },
    {
      "cell_type": "code",
      "source": [
        "IP = [\n",
        "    58, 50, 42, 34, 26, 18, 10, 2,\n",
        "    60, 52, 44, 36, 28, 20, 12, 4,\n",
        "    62, 54, 46, 38, 30, 22, 14, 6,\n",
        "    64, 56, 48, 40, 32, 24, 16, 8,\n",
        "    57, 49, 41, 33, 25, 17, 9,  1,\n",
        "    59, 51, 43, 35, 27, 19, 11, 3,\n",
        "    61, 53, 45, 37, 29, 21, 13, 5,\n",
        "    63, 55, 47, 39, 31, 23, 15, 7\n",
        "]\n",
        "    \n",
        "IPinv = [\n",
        "    40, 8,  48, 16, 56, 24, 64, 32,\n",
        "    39, 7,  47, 15, 55, 23, 63, 31,\n",
        "    38, 6,  46, 14, 54, 22, 62, 30,\n",
        "    37, 5,  45, 13, 53, 21, 61, 29,\n",
        "    36, 4,  44, 12, 52, 20, 60, 28,\n",
        "    35, 3,  43, 11, 51, 19, 59, 27,\n",
        "    34, 2,  42, 10, 50, 18, 58, 26,\n",
        "    33, 1,  41, 9,  49, 17, 57, 25\n",
        "]"
      ],
      "metadata": {
        "id": "x04kfFv0jbG6"
      },
      "execution_count": 31,
      "outputs": []
    },
    {
      "cell_type": "markdown",
      "source": [
        "Finally, we can inplement DES function "
      ],
      "metadata": {
        "id": "58fQENALx5FN"
      }
    },
    {
      "cell_type": "code",
      "source": [
        "def DES(clear, K):\n",
        "    # Derivating K into 16 subkeys\n",
        "    subKeys = keySchedule(K)\n",
        "    # Inital Permutation, IP\n",
        "    clearIP = permutation(clear, IP, 64)\n",
        "    L, R = cutInHalves(clearIP)\n",
        "\n",
        "    # 1 Feistel round/subkey\n",
        "    for i in subKeys:\n",
        "        LiPlus1 = R\n",
        "        RiPlus1 = L ^ F(R, i)\n",
        "\n",
        "        L = LiPlus1\n",
        "        R = RiPlus1\n",
        "        #print(hex(L)) # uncomment this line\n",
        "        #print(hex(R)) # and this line\n",
        "    # swap R16 and L16\n",
        "    swapped = (R << 32) | L\n",
        "    # apply IP^-1\n",
        "    return permutation(swapped, IPinv, 64)"
      ],
      "metadata": {
        "id": "VGtandVmjdR5"
      },
      "execution_count": 32,
      "outputs": []
    },
    {
      "cell_type": "markdown",
      "source": [
        "and run..."
      ],
      "metadata": {
        "id": "sZa6rPs7ljJ1"
      }
    },
    {
      "cell_type": "code",
      "source": [
        "clear = 0x1274775212747752    \n",
        "key   = 0x2577472125774721\n",
        "print(\"Cleartext = \" + hex(clear) + \" | Key = \" + hex(key) + \" | Cypher : \" + hex(DES(clear, key)))"
      ],
      "metadata": {
        "colab": {
          "base_uri": "https://localhost:8080/"
        },
        "id": "eHWTggynjfhT",
        "outputId": "4abc813f-5791-40a0-bc8c-b1c99a79c53a"
      },
      "execution_count": 33,
      "outputs": [
        {
          "output_type": "stream",
          "name": "stdout",
          "text": [
            "Cleartext = 0x1274775212747752 | Key = 0x2577472125774721 | Cypher : 0xbee7152a9320a971\n"
          ]
        }
      ]
    },
    {
      "cell_type": "markdown",
      "source": [
        "To verify output of this implementation we can use online DES calculator http://www.emvlab.org/descalc/"
      ],
      "metadata": {
        "id": "65ip5KqP2kny"
      }
    },
    {
      "cell_type": "markdown",
      "source": [
        "# Differential fault analysis (DFA)"
      ],
      "metadata": {
        "id": "S3zCTJ3-y8X2"
      }
    },
    {
      "cell_type": "markdown",
      "source": [
        "Initially, we need to load some plaintext, ciphertext and 32 faulty ciphertexts.\n",
        "The faulty ciphertextt are the result of 32 executions of DES where a bit has been changed on the R15 block and then has been fed to the last call to the F function (which used the `K16` subkey)."
      ],
      "metadata": {
        "id": "Ez5rbGKUzQ7h"
      }
    },
    {
      "cell_type": "code",
      "source": [
        "plaintext  = 0x54bd2a11e5938c37 \n",
        "ciphertext = 0xf2ea8be913629cbd\n",
        "print(\"Plaintext: \", hex(plaintext))\n",
        "print(\"Ciphertext:\", hex(ciphertext))\n",
        "\n",
        "faultedCyphertexts = [\n",
        "    0xf0fb8be913639cb9, 0xf2e88bed13639cbd, 0xf2ea89a913639cbd, 0xf3fa8fef03639cbd, \n",
        "    0xf3fa8bed01629cbd, 0xf3aa8be903609cbd, 0xf2aa8fe903629ebd, 0xf3aa8fe803729cbf, \n",
        "    0xfbea8be803669cbd, 0xf2e28be853729cbd, 0xf2ea83e853669cbd, 0xf2ea9be053229cbc, \n",
        "    0xf2ea9be85b329cbd, 0xb2ea9be9132a9cbd, 0xb2ea8be9136294bc, 0xb2ea9be917629cf4, \n",
        "    0xd2ea8be913228cfc, 0xf2ca8be917628cbd, 0xf2eaabe917629cfd, 0xf6eacbc913629dfd, \n",
        "    0xe6eacbe937629dfd, 0xf6ea8ae913429cbd, 0xe2eacae91362bcbd, 0xf2eacaf91262dc9d, \n",
        "    0x76eacbf9126298bd, 0xf26a8bf912629cbd, 0xf2ea0bf91362d8bd, 0xf2ef8b691262dcbd,\n",
        "    0xf2ef8be99262d8b9, 0xf2eb8be913e29cb9, 0xf2ee8be913621cb9, 0xf2ef8ba913639c2d\n",
        "]\n",
        "print(\"Faulted cyphertexts:\", [hex(i) for i in faultedCyphertexts])"
      ],
      "metadata": {
        "colab": {
          "base_uri": "https://localhost:8080/"
        },
        "id": "E1MWs4_1zlKx",
        "outputId": "c79f3342-a67b-4468-db09-d7f509212e2d"
      },
      "execution_count": 34,
      "outputs": [
        {
          "output_type": "stream",
          "name": "stdout",
          "text": [
            "Plaintext:  0x54bd2a11e5938c37\n",
            "Ciphertext: 0xf2ea8be913629cbd\n",
            "Faulted cyphertexts: ['0xf0fb8be913639cb9', '0xf2e88bed13639cbd', '0xf2ea89a913639cbd', '0xf3fa8fef03639cbd', '0xf3fa8bed01629cbd', '0xf3aa8be903609cbd', '0xf2aa8fe903629ebd', '0xf3aa8fe803729cbf', '0xfbea8be803669cbd', '0xf2e28be853729cbd', '0xf2ea83e853669cbd', '0xf2ea9be053229cbc', '0xf2ea9be85b329cbd', '0xb2ea9be9132a9cbd', '0xb2ea8be9136294bc', '0xb2ea9be917629cf4', '0xd2ea8be913228cfc', '0xf2ca8be917628cbd', '0xf2eaabe917629cfd', '0xf6eacbc913629dfd', '0xe6eacbe937629dfd', '0xf6ea8ae913429cbd', '0xe2eacae91362bcbd', '0xf2eacaf91262dc9d', '0x76eacbf9126298bd', '0xf26a8bf912629cbd', '0xf2ea0bf91362d8bd', '0xf2ef8b691262dcbd', '0xf2ef8be99262d8b9', '0xf2eb8be913e29cb9', '0xf2ee8be913621cb9', '0xf2ef8ba913639c2d']\n"
          ]
        }
      ]
    },
    {
      "cell_type": "markdown",
      "source": [
        "The selectFaults() function will help to denote which fault went into which SBox:"
      ],
      "metadata": {
        "id": "MSADVz3TPe_c"
      }
    },
    {
      "cell_type": "code",
      "source": [
        "def selectFaults():\n",
        "    aAtq = {'sbox{}'.format(i): [] for i in range(8)}\n",
        "\n",
        "    for index, i in enumerate(faultedCyphertexts):\n",
        "        xor = ciphertext ^ i\n",
        "        xor = permutation(xor, IP, 64)\n",
        "        \n",
        "        L16, R16 = cutInHalves(xor)\n",
        "        exp = bin(expansion(R16))[2:].zfill(48)\n",
        "        expListe = [exp[i:i+6] for i in range(0, 48, 6)]\n",
        "        \n",
        "        for idx, bloc in enumerate(expListe):\n",
        "            if bloc != '000000':\n",
        "                aAtq['sbox{}'.format(idx)].append(index)\n",
        "    return aAtq\n",
        "\n",
        "print(selectFaults())"
      ],
      "metadata": {
        "colab": {
          "base_uri": "https://localhost:8080/"
        },
        "id": "TR1qG0e0jotm",
        "outputId": "1828dfbe-0bec-43f7-83c9-7d4edf4c757f"
      },
      "execution_count": 35,
      "outputs": [
        {
          "output_type": "stream",
          "name": "stdout",
          "text": [
            "{'sbox0': [0, 27, 28, 29, 30, 31], 'sbox1': [23, 24, 25, 26, 27, 28], 'sbox2': [19, 20, 21, 22, 23, 24], 'sbox3': [15, 16, 17, 18, 19, 20], 'sbox4': [11, 12, 13, 14, 15, 16], 'sbox5': [7, 8, 9, 10, 11, 12], 'sbox6': [3, 4, 5, 6, 7, 8], 'sbox7': [0, 1, 2, 3, 4, 31]}\n"
          ]
        }
      ]
    },
    {
      "cell_type": "markdown",
      "source": [
        "Helper functions"
      ],
      "metadata": {
        "id": "PMz2i8StQwTV"
      }
    },
    {
      "cell_type": "code",
      "source": [
        "# Find the common point of a list of lists\n",
        "def common(list):\n",
        "    result = set(list[0])\n",
        "    for l in list[1:]:\n",
        "        result.intersection_update(l)\n",
        "    return result.pop()\n",
        "\n",
        "# Isolates the input of the sbox by generating a 6 bits mask\n",
        "def mask48(sbox):\n",
        "    mask = \"111111\"\n",
        "    zerosGauche = sbox * 6 * '0'\n",
        "    mask = zerosGauche + mask\n",
        "    while(len(mask) < 48):\n",
        "        mask += '0'\n",
        "    return int(mask, 2)\n",
        "\n",
        "# Isolates the output of the sbox by generating a 4 bits mask\n",
        "def mask32(sbox):\n",
        "    mask = \"1111\"\n",
        "    return int(mask + \"0\" * (28 - sbox * 4), 2)\n",
        "\n",
        "def calcRowColumnSbox(sbox, expanded, valueToTest):\n",
        "    # only keep the 6 bits that go throught the sbox\n",
        "    tmp = expanded & mask48(sbox)\n",
        "    # removing the zeros on the right\n",
        "    tmp >>= (7 - sbox) * 6\n",
        "    tmp ^= valueToTest  # valueToTest is the potential value of the current block of K16 that we're testing (0 to 63)\n",
        "    \n",
        "    # same way to calculate the line/column of the input as in DES\n",
        "    msbDouble = (tmp & 0b100000) >> 4\n",
        "    lsb = tmp & 1\n",
        "    row = msbDouble + lsb \n",
        "    column = (tmp & 0b011110) >> 1\n",
        "    return row, column\n",
        "\n",
        "Pinv = [\n",
        "    9,  17, 23, 31,\n",
        "    13, 28, 2,  18,\n",
        "    24, 16, 30, 6,\n",
        "    26, 20, 10, 1,\n",
        "    8,  14, 25, 3,\n",
        "    4,  29, 11, 19,\n",
        "    32, 12, 22, 7,\n",
        "    5,  27, 15, 21\n",
        "]\n",
        "\n",
        "def solutionIsValid(sbox, P_1_L16_xor_L16f, line, column, linef, columnf):\n",
        "    ver = P_1_L16_xor_L16f & mask32(sbox) # keep the (4 bits) output of the current S box\n",
        "    ver >>= (7 - sbox) * 4            # remove trailing zeros\n",
        "    xor = Sbox[sbox][line][column] ^ Sbox[sbox][linef][columnf] \n",
        "    return ver == xor                 # if S(E(R15) ^ x) ^ S(E(R15*) ^ x) = P-1(L16 ^ L16*) then we found a potential solution"
      ],
      "metadata": {
        "id": "rnjkRlhOjq6_"
      },
      "execution_count": 36,
      "outputs": []
    },
    {
      "cell_type": "markdown",
      "source": [
        "Now we can find key k16"
      ],
      "metadata": {
        "id": "J16FQahWRUJu"
      }
    },
    {
      "cell_type": "code",
      "source": [
        "import pprint\n",
        "\n",
        "def findK16(ciphertext, faultedCyphertexts, verbose=False):\n",
        "    pp = pprint.PrettyPrinter(indent=4)\n",
        "    K16 = 0x000000000000\n",
        "    sol = {\"sbox{}\".format(i): [] for i in range(8)}\n",
        "\n",
        "    toAttack = selectFaults()\n",
        "    \n",
        "    if verbose is True:\n",
        "        print(\"Indexes of the SBoxes to be attacked:\")\n",
        "        pp.pprint(toAttack)\n",
        "        print()\n",
        "    \n",
        "    # Replacing the indexes with the values\n",
        "    for sbox, lists in toAttack.items():\n",
        "        listFaultedCyphertexts = []\n",
        "        for i in lists:\n",
        "            listFaultedCyphertexts.append(faultedCyphertexts[i])\n",
        "        toAttack[sbox] = listFaultedCyphertexts\n",
        "    \n",
        "    L16, R15 = cutInHalves(permutation(ciphertext, IP, 64))\n",
        "    \n",
        "    # Attacking the 8 sboxes with the equation we found\n",
        "    for s in range(8):\n",
        "        # Each SBox is attacked by 6 faulted cyphers\n",
        "        for f in range(6): \n",
        "            L16f, R15f = cutInHalves(permutation(toAttack['sbox{}'.format(s)][f], IP, 64))\n",
        "    \n",
        "            # calculating the terms of the equation\n",
        "            P_1_L16_xor_L16f = permutation(L16 ^ L16f, Pinv, 32)\n",
        "            E_R15 = expansion(R15) \n",
        "            E_R15f = expansion(R15f)\n",
        "            \n",
        "            # currSols stocks a list of possible solutions for the current sbox and faulted cypher\n",
        "            currSols = []\n",
        "            # trying every values for the current portion of K16 (6 bits = 64 values)\n",
        "            for x in range(pow(2, 6)):\n",
        "                \n",
        "                row, column = calcRowColumnSbox(s, E_R15, x)\n",
        "                rowF, columnF = calcRowColumnSbox(s, E_R15f, x)\n",
        "                \n",
        "                if (solutionIsValid(s, P_1_L16_xor_L16f, row, column, rowF, columnF)):\n",
        "                    currSols.append(x)\n",
        "            sol[\"sbox{}\".format(s)].append(currSols)\n",
        "\n",
        "        # the solution is the only block that is common to every set of solutions for the current sbox\n",
        "        solution = common(sol[\"sbox{}\".format(s)])\n",
        "        K16 = K16 << 6\n",
        "        K16 = K16 | solution\n",
        "\n",
        "        if verbose is True:\n",
        "            print(\"Sbox\", s + 1)\n",
        "            print(\"Potential solutions :\")\n",
        "            pp.pprint(sol['sbox{}'.format(s)])\n",
        "            print(\"Solution\", s+1 , \"=\", hex(solution))\n",
        "            print(\"current K16 =\", hex(K16))\n",
        "            \n",
        "    return K16\n",
        "\n",
        "K16 = findK16(ciphertext, faultedCyphertexts, verbose=True)"
      ],
      "metadata": {
        "colab": {
          "base_uri": "https://localhost:8080/"
        },
        "id": "EcntobA2jyse",
        "outputId": "6d227817-845a-4750-d6c5-4e84bc972c89"
      },
      "execution_count": 37,
      "outputs": [
        {
          "output_type": "stream",
          "name": "stdout",
          "text": [
            "Indexes of the SBoxes to be attacked:\n",
            "{   'sbox0': [0, 27, 28, 29, 30, 31],\n",
            "    'sbox1': [23, 24, 25, 26, 27, 28],\n",
            "    'sbox2': [19, 20, 21, 22, 23, 24],\n",
            "    'sbox3': [15, 16, 17, 18, 19, 20],\n",
            "    'sbox4': [11, 12, 13, 14, 15, 16],\n",
            "    'sbox5': [7, 8, 9, 10, 11, 12],\n",
            "    'sbox6': [3, 4, 5, 6, 7, 8],\n",
            "    'sbox7': [0, 1, 2, 3, 4, 31]}\n",
            "\n",
            "Sbox 1\n",
            "Potential solutions :\n",
            "[   [2, 4, 5, 6, 14, 27, 34, 36, 37, 38, 46, 59],\n",
            "    [4, 5, 20, 21, 36, 37],\n",
            "    [37, 39, 44, 46],\n",
            "    [10, 14, 16, 20, 33, 37, 41, 45, 59, 63],\n",
            "    [3, 11, 33, 37, 41, 45, 53, 61],\n",
            "    [7, 9, 12, 23, 25, 28, 37, 44, 45, 53, 60, 61]]\n",
            "Solution 1 = 0x25\n",
            "current K16 = 0x25\n",
            "Sbox 2\n",
            "Potential solutions :\n",
            "[   [2, 3, 44, 45, 46, 47],\n",
            "    [20, 21, 22, 23, 33, 35, 44, 45, 46, 47],\n",
            "    [0, 4, 16, 20, 32, 33, 36, 37, 42, 46],\n",
            "    [19, 27, 37, 38, 45, 46],\n",
            "    [3, 13, 15, 19, 29, 31, 45, 46, 61, 62],\n",
            "    [3, 14, 35, 46]]\n",
            "Solution 2 = 0x2e\n",
            "current K16 = 0x96e\n",
            "Sbox 3\n",
            "Potential solutions :\n",
            "[   [16, 17, 18, 19, 32, 33, 34, 35, 42, 43, 48, 49, 56, 57],\n",
            "    [0, 2, 16, 17, 18, 19],\n",
            "    [0, 4, 18, 22, 35, 39, 42, 46],\n",
            "    [17, 18, 20, 25, 26, 28],\n",
            "    [0, 2, 16, 18],\n",
            "    [18, 50]]\n",
            "Solution 3 = 0x12\n",
            "current K16 = 0x25b92\n",
            "Sbox 4\n",
            "Potential solutions :\n",
            "[   [4, 5, 6, 7, 18, 19, 20, 21, 32, 33, 36, 37, 44, 45, 56, 57],\n",
            "    [4, 5, 6, 7, 24, 25, 26, 27],\n",
            "    [2, 6, 18, 22, 26, 30, 41, 45, 49, 53, 57, 61],\n",
            "    [0, 6, 8, 14, 32, 38, 40, 46],\n",
            "    [0, 2, 6, 16, 18, 22, 41, 45, 47, 57, 61, 63],\n",
            "    [6, 12, 14, 23, 26, 29, 38, 44, 46, 55, 58, 61]]\n",
            "Solution 4 = 0x6\n",
            "current K16 = 0x96e486\n",
            "Sbox 5\n",
            "Potential solutions :\n",
            "[   [2, 3, 54, 55, 58, 59],\n",
            "    [1, 3, 40, 42, 44, 46, 56, 58, 61, 63],\n",
            "    [3, 7, 17, 21, 59, 63],\n",
            "    [3, 6, 11, 14, 16, 22, 24, 30, 48, 56],\n",
            "    [3, 6, 14, 15, 19, 22, 30, 31, 34, 47, 50, 63],\n",
            "    [3, 8, 14, 26, 35, 40, 46, 58]]\n",
            "Solution 5 = 0x3\n",
            "current K16 = 0x25b92183\n",
            "Sbox 6\n",
            "Potential solutions :\n",
            "[   [0, 1, 12, 13, 28, 29],\n",
            "    [24, 26, 29, 31, 33, 35, 45, 47, 49, 51],\n",
            "    [17, 21, 25, 26, 29, 30, 33, 37, 48, 52],\n",
            "    [17, 21, 25, 29, 37, 38, 45, 46, 49, 53, 57, 61],\n",
            "    [11, 12, 13, 14, 27, 28, 29, 30],\n",
            "    [0, 10, 21, 27, 29, 32, 42, 53, 59, 61]]\n",
            "Solution 6 = 0x1d\n",
            "current K16 = 0x96e4860dd\n",
            "Sbox 7\n",
            "Potential solutions :\n",
            "[   [26, 27, 56, 57, 62, 63],\n",
            "    [0, 1, 2, 3, 53, 55, 61, 63],\n",
            "    [8, 12, 40, 44, 59, 63],\n",
            "    [35, 36, 39, 43, 44, 47, 53, 55, 61, 63],\n",
            "    [39, 47, 55, 63],\n",
            "    [31, 63]]\n",
            "Solution 7 = 0x3f\n",
            "current K16 = 0x25b9218377f\n",
            "Sbox 8\n",
            "Potential solutions :\n",
            "[   [20, 22, 29, 31],\n",
            "    [18, 22, 43, 47],\n",
            "    [22, 30, 32, 36, 40, 44, 54, 62],\n",
            "    [6, 8, 10, 15, 22, 24, 26, 31, 35, 47, 51, 63],\n",
            "    [1, 5, 10, 14, 21, 22, 25, 30, 33, 37, 42, 46, 53, 54, 57, 62],\n",
            "    [22, 23, 34, 35, 36, 37, 38, 39, 40, 41, 46, 47, 60, 61]]\n",
            "Solution 8 = 0x16\n",
            "current K16 = 0x96e4860ddfd6\n"
          ]
        }
      ]
    },
    {
      "cell_type": "markdown",
      "source": [
        "Retrieving K from K16\n",
        "\n",
        "Now we have 48 bits that are at the right position, and 16 bits that are wrong. Among those 16 bits, 8 are parity bits that are useless for the DES computation. This leaves us with 8 bits to bruteforce (256 combinations).\n",
        "\n",
        "In the next step we will try to encrypt with every possible combination and compare the output with the cyphertext we have. If the results are the same, we found the 8 matching bits ie we found the key."
      ],
      "metadata": {
        "id": "cl7jnbMzbM2l"
      }
    },
    {
      "cell_type": "code",
      "source": [
        "from itertools import product\n",
        "\n",
        "def setKthBit(n,k): \n",
        "    return ((1 << k) | n) \n",
        "\n",
        "PC1inv = [\n",
        "    8,  16, 24, 56, 52, 44,\n",
        "    36, 0,  7,  15, 23, 55,\n",
        "    51, 43, 35, 0,  6,  14,\n",
        "    22, 54, 50, 42, 34, 0,\n",
        "    5,  13, 21, 53, 49, 41,\n",
        "    33, 0,  4,  12, 20, 28,\n",
        "    48, 40, 32, 0,  3,  11,\n",
        "    19, 27, 47, 39, 31, 0,\n",
        "    2,  10, 18, 26, 46, 38,\n",
        "    30, 0,  1,  9,  17, 25,\n",
        "    45, 37, 29, 0\n",
        "]\n",
        "\n",
        "# Bits 9, 18, 22, 25, 35, 38, 43 et 54 are lost and thus put to 0 here\n",
        "PC2inv = [\n",
        "    5,  24, 7,  16, 6,  10,\n",
        "    20, 18, 0,  12, 3,  15,\n",
        "    23, 1,  9,  19, 2,  0,\n",
        "    14, 22, 11, 0,  13, 4,\n",
        "    0,  17, 21, 8,  47, 31,\n",
        "    27, 48, 35, 41, 0,  46,\n",
        "    28, 0,  39, 32, 25, 44,\n",
        "    0,  37, 34, 43, 29, 36,\n",
        "    38, 45, 33, 26, 42, 0,\n",
        "    30,  40\n",
        "]\n",
        "\n",
        "def findK56(plaintext, ciphertext, K16):\n",
        "    # We put the 48 bits of K16 at their position in K (going backwards in the key schedule)\n",
        "    # Inverse of PC2 : 48 -> 56 bits, 8 wrong bits which's positions are known\n",
        "    # Inverse of PC1 : 56 -> 64 bits, 8 wrong bits (parity, no consequence on the calculation). However our 8 wrong \n",
        "    # bits from PC2 are still wrong, but in different positions that are still trackable\n",
        "    K48 = permutation(permutation(K16, PC2inv, 48), PC1inv, 56)\n",
        "        \n",
        "    # Bruteforcing the 8 missing bits\n",
        "    masques = list(product([0, 1], repeat=8))\n",
        "    positionsToRecover = [50, 49, 45, 44, 13, 10, 6, 4]\n",
        "    \n",
        "    for mask in masques:\n",
        "        hypothesis = 0\n",
        "        for i in range(8):\n",
        "            if mask[i] == 1:\n",
        "                hypothesis = setKthBit(hypothesis, k=positionsToRecover[i])\n",
        "        hypothesis |= K48\n",
        "        if ciphertext == DES(plaintext, hypothesis):\n",
        "            return hypothesis\n",
        "    \n",
        "    print(\"Impossible de retrouver K56, erreur\")\n",
        "    raise\n",
        "\n",
        "K56 = findK56(plaintext, ciphertext, K16)\n",
        "\n",
        "def parity(K56b):\n",
        "    strCle = bin(K56b)[2:]\n",
        "    while len(strCle) < 64:\n",
        "        strCle = \"0\" + strCle\n",
        "    cle = ''\n",
        "    i = 0\n",
        "    while i < 64:\n",
        "        currByte = strCle[i:i+8]\n",
        "        if currByte.count('1') % 2 == 0:\n",
        "            currByte = currByte[:-1] + '1'\n",
        "        cle += currByte\n",
        "        i+=8\n",
        "    return int(cle, 2)\n",
        "\n",
        "print(\"Found Key:\", hex(parity(K56)))\n",
        "print(\"Verifying the correctness:\")\n",
        "print()\n",
        "print(\"Computed cypher:\", hex(DES(plaintext, parity(K56))))\n",
        "print(\"Right cypher:   \", hex(ciphertext))"
      ],
      "metadata": {
        "colab": {
          "base_uri": "https://localhost:8080/"
        },
        "id": "1VDGFsmPj5YE",
        "outputId": "883037dc-19a5-4181-c1ab-169fdb0f50fd"
      },
      "execution_count": 38,
      "outputs": [
        {
          "output_type": "stream",
          "name": "stdout",
          "text": [
            "Found Key: 0x375be6f82cad155b\n",
            "Verifying the correctness:\n",
            "\n",
            "Computed cypher: 0xf2ea8be913629cbd\n",
            "Right cypher:    0xf2ea8be913629cbd\n"
          ]
        }
      ]
    },
    {
      "cell_type": "markdown",
      "source": [
        "For input plaintext = 0x54bd2a11e5938c37 and ciphertext = 0xf2ea8be913629cbd, we get key = 0x375be6f82cad155b.\n",
        "\n",
        "We can verify the result by using online DES calculator http://www.emvlab.org/descalc/\n",
        "\n",
        "The bruteforced key is not always identical to the original keySince the DES operation (both encryption and decryption) ignores the LSB of each byte of the key. That is, if we flip any of the LSBs within the key, the operation remains the same. For example, two different keys 0x375BE6F82CAD155B and 0x365AE7F92DAC145A produce output (ciphertext) = 0xF2EA8BE913629CBD from the input (plaintext) = 0x54BD2A11E5938C37"
      ],
      "metadata": {
        "id": "p-K83T5fcYgh"
      }
    },
    {
      "cell_type": "markdown",
      "source": [
        "# Thoughts"
      ],
      "metadata": {
        "id": "gB5d8mUQl_uW"
      }
    },
    {
      "cell_type": "markdown",
      "source": [
        "\n",
        "DFA is a useful tool, but not very practical. \n",
        "\n",
        "DFA requires physical posession of a target device, but it is possible to inject a fault remotely. DFA also requires deep knowledge and understanding of the underlying system; performing this type of attack without knowing the structure and operation of the system and its behavior is near-impossible. \n",
        "\n",
        "It is important to secure your devices from an attaker. Without having physical access to your device, it would be very difficult for the attaker to perform DFA. However, if the attaker gains access, there are a lot of others different vulnerabilities, that he can exploit, such as hardware trojans, perform cold boot attacks, etc."
      ],
      "metadata": {
        "id": "FQsuG8v0mJED"
      }
    }
  ]
}